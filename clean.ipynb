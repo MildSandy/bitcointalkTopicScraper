{
 "cells": [
  {
   "cell_type": "code",
   "execution_count": 50,
   "metadata": {},
   "outputs": [
    {
     "name": "stdout",
     "output_type": "stream",
     "text": [
      "Requirement already satisfied: clean-text[gpl] in c:\\users\\kyle sheppard\\anaconda3\\lib\\site-packages (0.1.1)\n",
      "Collecting emoji\n",
      "  Downloading https://files.pythonhosted.org/packages/40/8d/521be7f0091fe0f2ae690cc044faf43e3445e0ff33c574eae752dd7e39fa/emoji-0.5.4.tar.gz (43kB)\n",
      "Requirement already satisfied: ftfy in c:\\users\\kyle sheppard\\anaconda3\\lib\\site-packages (from clean-text[gpl]) (5.6)\n",
      "Requirement already satisfied: unidecode; extra == \"gpl\" in c:\\users\\kyle sheppard\\anaconda3\\lib\\site-packages (from clean-text[gpl]) (1.1.1)\n",
      "Requirement already satisfied: wcwidth in c:\\users\\kyle sheppard\\anaconda3\\lib\\site-packages (from ftfy->clean-text[gpl]) (0.1.7)\n",
      "Building wheels for collected packages: emoji\n",
      "  Building wheel for emoji (setup.py): started\n",
      "  Building wheel for emoji (setup.py): finished with status 'done'\n",
      "  Stored in directory: C:\\Users\\Kyle Sheppard\\AppData\\Local\\pip\\Cache\\wheels\\2a\\a9\\0a\\4f8e8cce8074232aba240caca3fade315bb49fac68808d1a9c\n",
      "Successfully built emoji\n",
      "Installing collected packages: emoji\n",
      "Successfully installed emoji-0.5.4\n"
     ]
    }
   ],
   "source": [
    "import sys\n",
    "!\"{sys.executable}\" -m pip install clean-text[gpl] emoji"
   ]
  },
  {
   "cell_type": "code",
   "execution_count": 51,
   "metadata": {},
   "outputs": [],
   "source": [
    "from cleantext import clean\n",
    "import emoji"
   ]
  },
  {
   "cell_type": "code",
   "execution_count": 53,
   "metadata": {},
   "outputs": [],
   "source": [
    "text = \"\"\"A bunch of \\\\u2018new\\\\u2019 references, including [Moana](https://en.wikipedia.org/wiki/Moana_%282016_film%29).\n",
    "😀 :D  🥂👩‍🏭 👨‍🏭 👩‍💻 👨‍💻 👩‍💼 👨‍💼 👩‍🔧 👨‍🔧 👩‍🔬 👨‍🔬 👩‍🎨 👨‍🎨 👩‍🚒 👨‍🚒 👩‍✈️ 👨‍✈️ 👩‍🚀 👨‍🚀 👩‍⚖️ 👨‍⚖️ 👰 🤵 👸 🤴 🤶 🎅 🧙‍♀️ 🧙‍♂️ 🧝‍♀️ 🧝‍♂️ 🧛‍♀️ 🧛‍♂️ 🧟‍♀️ 🧟‍♂️ 🧞‍♀️ 🧞‍♂️ 🧜‍♀️ 🧜‍♂️ 🧚‍♀️ 🧚‍♂️ 👼 🤰 🤱 🙇‍♀️ 🙇‍♂️ 💁‍♀️ 💁‍♂️ 🙅‍♀️ 🙅‍♂️ 🙆‍♀️ 🙆‍♂️ 🙋‍♀️ 🙋‍♂️ 🤦‍♀️ 🤦‍♂️ 🤷‍♀️ 🤷‍♂️ 🙎‍♀️ 🙎‍♂️ 🙍‍♀️ 🙍‍♂️ 💇‍♀️ 💇‍♂️ 💆‍♀️ 💆‍♂️ 🧖‍♀️ 🧖‍♂️ 💅 🤳 💃 🕺 👯‍♀️ 👯‍♂️ 🕴 🚶‍♀️ 🚶‍♂️ 🏃‍♀️ 🏃‍♂️ 👫 👭 👬 💑 👩‍❤️‍👩 👨‍❤️‍👨 💏 👩‍❤️‍💋‍👩 👨‍❤️‍💋‍👨 👪 👨‍👩‍👧 👨‍👩‍👧‍👦 👨‍👩‍👦‍👦 👨‍👩‍👧‍👧 👩‍👩‍👦 👩‍👩‍👧 👩‍👩‍👧‍👦 👩‍👩‍👦‍👦 👩‍👩‍👧‍👧 👨‍👨‍👦 👨‍👨‍👧\n",
    "&nbsp;&amp;\n",
    "»Yóù àré     rïght &lt;3!«\"\"\""
   ]
  },
  {
   "cell_type": "code",
   "execution_count": 54,
   "metadata": {},
   "outputs": [],
   "source": [
    "text = emoji.demojize(text)\n",
    "\n",
    "text = clean(text,\n",
    "    fix_unicode=True,               # fix various unicode errors\n",
    "    to_ascii=True,                  # transliterate to closest ASCII representation\n",
    "    lower=True,                     # lowercase text\n",
    "    no_line_breaks=True,           # fully strip line breaks as opposed to only normalizing them\n",
    "    no_urls=True,                  # replace all URLs with a special token\n",
    "    no_emails=False,                # replace all email addresses with a special token\n",
    "    no_phone_numbers=False,         # replace all phone numbers with a special token\n",
    "    no_numbers=False,               # replace all numbers with a special token\n",
    "    no_digits=False,                # replace all digits with a special token\n",
    "    no_currency_symbols=False,      # replace all currency symbols with a special token\n",
    "    no_punct=False,                 # fully remove punctuation\n",
    "    replace_with_url=\"<URL>\",\n",
    "    replace_with_email=\"<EMAIL>\",\n",
    "    replace_with_phone_number=\"<PHONE>\",\n",
    "    replace_with_number=\"<NUMBER>\",\n",
    "    replace_with_digit=\"0\",\n",
    "    replace_with_currency_symbol=\"<CUR>\",\n",
    "    lang=\"en\"                \n",
    "            )"
   ]
  },
  {
   "cell_type": "code",
   "execution_count": 55,
   "metadata": {},
   "outputs": [],
   "source": [
    "def deEmojify(inputString):\n",
    "    return inputString.encode('ascii', 'ignore').decode('ascii')"
   ]
  },
  {
   "cell_type": "code",
   "execution_count": 56,
   "metadata": {},
   "outputs": [
    {
     "name": "stdout",
     "output_type": "stream",
     "text": [
      "a bunch of 'new' references, including [moana](<url>). :grinning_face: :d :clinking_glasses::woman_factory_worker: :man_factory_worker: :woman_technologist: :man_technologist: :woman_office_worker: :man_office_worker: :woman_mechanic: :man_mechanic: :woman_scientist: :man_scientist: :woman_artist: :man_artist: :woman_firefighter: :man_firefighter: :woman_pilot: :man_pilot: :woman_astronaut: :man_astronaut: :woman_judge: :man_judge: :bride_with_veil: :man_in_tuxedo: :princess: :prince: :mrs._claus: :santa_claus: :woman_mage: :man_mage: :woman_elf: :man_elf: :woman_vampire: :man_vampire: :woman_zombie: :man_zombie: :woman_genie: :man_genie: :mermaid: :merman: :woman_fairy: :man_fairy: :baby_angel: :pregnant_woman: :breast-feeding: :woman_bowing: :man_bowing: :woman_tipping_hand: :man_tipping_hand: :woman_gesturing_no: :man_gesturing_no: :woman_gesturing_ok: :man_gesturing_ok: :woman_raising_hand: :man_raising_hand: :woman_facepalming: :man_facepalming: :woman_shrugging: :man_shrugging: :woman_pouting: :man_pouting: :woman_frowning: :man_frowning: :woman_getting_haircut: :man_getting_haircut: :woman_getting_massage: :man_getting_massage: :woman_in_steamy_room: :man_in_steamy_room: :nail_polish: :selfie: :woman_dancing: :man_dancing: :women_with_bunny_ears: :men_with_bunny_ears: :man_in_suit_levitating: :woman_walking: :man_walking: :woman_running: :man_running: :man_and_woman_holding_hands: :two_women_holding_hands: :two_men_holding_hands: :couple_with_heart: :couple_with_heart_woman_woman: :couple_with_heart_man_man: :kiss: :kiss_woman_woman: :kiss_man_man: :family: :family_man_woman_girl: :family_man_woman_girl_boy: :family_man_woman_boy_boy: :family_man_woman_girl_girl: :family_woman_woman_boy: :family_woman_woman_girl: :family_woman_woman_girl_boy: :family_woman_woman_boy_boy: :family_woman_woman_girl_girl: :family_man_man_boy: :family_man_man_girl: & \"you are right <3!\"\n"
     ]
    }
   ],
   "source": [
    "print(deEmojify(text))"
   ]
  },
  {
   "cell_type": "code",
   "execution_count": null,
   "metadata": {},
   "outputs": [],
   "source": []
  }
 ],
 "metadata": {
  "kernelspec": {
   "display_name": "Python 3",
   "language": "python",
   "name": "python3"
  },
  "language_info": {
   "codemirror_mode": {
    "name": "ipython",
    "version": 3
   },
   "file_extension": ".py",
   "mimetype": "text/x-python",
   "name": "python",
   "nbconvert_exporter": "python",
   "pygments_lexer": "ipython3",
   "version": "3.7.5"
  }
 },
 "nbformat": 4,
 "nbformat_minor": 2
}
